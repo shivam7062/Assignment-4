{
  "nbformat": 4,
  "nbformat_minor": 0,
  "metadata": {
    "colab": {
      "provenance": []
    },
    "kernelspec": {
      "name": "python3",
      "display_name": "Python 3"
    },
    "language_info": {
      "name": "python"
    }
  },
  "cells": [
    {
      "cell_type": "markdown",
      "source": [
        "Q-1) Explain the purpose of version control systems like Git. Why are they essential in modern software development?\n",
        "\n",
        "- Purpose of Git :\n",
        "\n",
        "       - Git Saves every change made to the code.\n",
        "\n",
        "       - we can return to an older version if something wrong.\n",
        "\n",
        "       - We can test new features in branches before adding them.\n",
        "\n",
        "- Essential in modern software development :\n",
        "\n",
        "       - Many people can work on the same project without problems/conflicts.\n",
        "\n",
        "       - Shows who made changes and why.\n",
        "\n",
        "       - Makes working in a team easier and with fewer mistakes."
      ],
      "metadata": {
        "id": "fmQYPtDur09Y"
      }
    },
    {
      "cell_type": "markdown",
      "source": [
        "Q-2) List the typical steps you would follow when working with Git to make changes to a project and share them on GitHub.\n",
        "\n",
        "- Steps :\n",
        "\n",
        "        git clone url           // url can be ssh or https getting from Github\n",
        "\n",
        "        git checkout -b branch-name    // default main\n",
        "\n",
        "        git add .\n",
        "  \n",
        "        git commit -m \"initial changes\"\n",
        "\n",
        "        git push origin main\n"
      ],
      "metadata": {
        "id": "ivduAoKHxvXE"
      }
    },
    {
      "cell_type": "markdown",
      "source": [
        "Q-3) What is the purpose of a .gitignore file in a Git repository? Provide an\n",
        "example of how to ignore all .log files.\n",
        "\n",
        "- The purpose of a .gitignore file in a git repository is tells to Git which files or folders should not be tracked.\n",
        "\n",
        "           e.g : *.log"
      ],
      "metadata": {
        "id": "x548Mb-wy-cY"
      }
    },
    {
      "cell_type": "markdown",
      "source": [
        "Q-4) You are currently on the main branch and want to switch to a branch\n",
        "named feature-login. Write the Git command to do this.\n",
        "\n",
        "- Git command :\n",
        "\n",
        "         git checkout feature-login"
      ],
      "metadata": {
        "id": "UpFkYXwU0c9z"
      }
    },
    {
      "cell_type": "markdown",
      "source": [
        "Q-5) Declare a variable named age using let and assign it the value 25. Then,\n",
        "update its value to 30.\n",
        "\n",
        "- Code :\n",
        "        let age = 25;\n",
        "        age = 30\n",
        "        console.log(age)       // to print 30"
      ],
      "metadata": {
        "id": "R8V_TM4s05Zi"
      }
    },
    {
      "cell_type": "markdown",
      "source": [
        "Q-6)  Declare a constant named PI with the value 3.14159. Attempting to\n",
        "reassign it should result in an error. Demonstrate this behavior by writing out the outcome.\n",
        "\n",
        "- Code :\n",
        "\n",
        "        const PI = 3.14159\n",
        "        PI = 3.14\n",
        "        console.log(PI)  // it's show error because assignment to a constant variable"
      ],
      "metadata": {
        "id": "VigGVStK1893"
      }
    },
    {
      "cell_type": "markdown",
      "source": [
        "Q-7) You are given the following array:\n",
        "\n",
        "const colors = [\"red\", \"green\", \"blue\", \"yellow\", \"purple\"];\n",
        "1. Access and print the first element of the array.\n",
        "2. Access and print the last element of the array.\n",
        "3. Access and print the third element of the array.\n",
        "\n",
        "\n",
        "       console.log(colors[0])                  // red\n",
        "       console.log(colors[colors.length - 1])  // purple\n",
        "       console.log(colors[2])                  // blue\n"
      ],
      "metadata": {
        "id": "YUBcBWDP2TW2"
      }
    },
    {
      "cell_type": "markdown",
      "source": [
        "Q-8) Given x = 10 and y = 5, write expressions to:\n",
        "1. Add x and y\n",
        "2. Check if x is greater than y\n",
        "3. Check if x is equal to y\n",
        "\n",
        "       x + y\n",
        "       x > y\n",
        "       x == y or x === y  "
      ],
      "metadata": {
        "id": "in2_qp-73bZG"
      }
    },
    {
      "cell_type": "markdown",
      "source": [
        "Q-9) Identify the data types of the following values:\n",
        "1. \"Hello\"\n",
        "2. 42\n",
        "3. true\n",
        "4. undefined\n",
        "\n",
        "       string\n",
        "       number\n",
        "       boolean\n",
        "       undefined"
      ],
      "metadata": {
        "id": "jG8_CNR93rR-"
      }
    }
  ]
}